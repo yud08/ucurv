{
 "cells": [
  {
   "cell_type": "markdown",
   "metadata": {},
   "source": [
    "This notebook demonstrates the 3D curvelet transform in the ucurv package. First I create a 3 D data and the ucurv object"
   ]
  },
  {
   "cell_type": "code",
   "execution_count": null,
   "metadata": {},
   "outputs": [],
   "source": [
    "from ucurv.ucurv import *\n",
    "from zoneplate import *\n",
    "\n",
    "sz = [64, 96, 128]\n",
    "cfg = [[3, 3, 3], [6, 6, 6]]\n",
    "print(sz)\n",
    "rsq = zoneplate(sz)\n",
    "img = rsq - np.mean(rsq)\n",
    "# plt.imshow(img)\n",
    "\n",
    "udct = ucurv(sz, cfg)\n",
    "\n"
   ]
  },
  {
   "cell_type": "markdown",
   "metadata": {},
   "source": [
    "Then I call forward transform and print out the keys, which are the index of the directional bands"
   ]
  },
  {
   "cell_type": "code",
   "execution_count": null,
   "metadata": {},
   "outputs": [],
   "source": [
    "imband = ucurvfwd(img, udct)\n",
    "print(imband.keys())\n"
   ]
  },
  {
   "cell_type": "markdown",
   "metadata": {},
   "source": [
    "Then I call the inverse transform and print out the difference between original and reconstructed cube"
   ]
  },
  {
   "cell_type": "code",
   "execution_count": null,
   "metadata": {},
   "outputs": [],
   "source": [
    "recon = ucurvinv(imband, udct)\n",
    "\n",
    "err = img - recon\n",
    "print(np.max(np.abs(err)))"
   ]
  }
 ],
 "metadata": {
  "kernelspec": {
   "display_name": ".venv",
   "language": "python",
   "name": "python3"
  },
  "language_info": {
   "codemirror_mode": {
    "name": "ipython",
    "version": 3
   },
   "file_extension": ".py",
   "mimetype": "text/x-python",
   "name": "python",
   "nbconvert_exporter": "python",
   "pygments_lexer": "ipython3",
   "version": "3.12.3"
  }
 },
 "nbformat": 4,
 "nbformat_minor": 2
}
