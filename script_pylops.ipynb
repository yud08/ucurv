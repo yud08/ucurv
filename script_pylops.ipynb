{
 "cells": [
  {
   "cell_type": "code",
   "execution_count": 1,
   "metadata": {},
   "outputs": [],
   "source": [
    "# from pylops import LinearOperator\n",
    "import pylops\n",
    "import numpy as np\n",
    "from ucurv import *\n",
    "class Udct(pylops.LinearOperator):\n",
    "    def __init__(self, sz, cfg, complex = False, sparse = False, dtype=None):\n",
    "        self.udct = udct(sz, cfg, complex, sparse)\n",
    "        self.shape = (self.udct.len, np.prod(sz))\n",
    "        self.dtype = np.dtype(dtype)\n",
    "        self.explicit = False    \n",
    "        self.rmatvec_count = 0\n",
    "        self.matvec_count = 0\n",
    "    def _matvec(self, x):\n",
    "        img = x.reshape(self.udct.sz)\n",
    "        band = ucurvfwd(img, self.udct)\n",
    "        bvec = bands2vec(band)        \n",
    "        return bvec\n",
    "\n",
    "    def _rmatvec(self, x):\n",
    "        band = vec2bands(x, self.udct)\n",
    "        recon = ucurvinv(band, self.udct)\n",
    "        recon2 = recon.reshape(self.udct.sz)\n",
    "        return recon2\n",
    "    \n",
    "\n",
    "\n",
    "\n"
   ]
  },
  {
   "cell_type": "code",
   "execution_count": 2,
   "metadata": {},
   "outputs": [
    {
     "name": "stdout",
     "output_type": "stream",
     "text": [
      "8172.428950292462\n",
      "8172.428950292459\n"
     ]
    }
   ],
   "source": [
    "\n",
    "sz = [256, 256]\n",
    "cfg = [[3,3],[6,6]]\n",
    "x = np.random.rand(256*256)\n",
    "y = np.random.rand(262144)\n",
    "F = Udct(sz,cfg)\n",
    "print(np.dot(y,F*x))\n",
    "print(np.dot(x,F.T*y))"
   ]
  },
  {
   "cell_type": "code",
   "execution_count": 4,
   "metadata": {},
   "outputs": [
    {
     "name": "stdout",
     "output_type": "stream",
     "text": [
      "Dot test passed, v^H(Opu)=260.898782509885 - u^H(Op^Hv)=260.89878250988386\n"
     ]
    }
   ],
   "source": [
    "from pylops.utils import dottest\n",
    "N = 256*256\n",
    "_ = dottest(F, 262144, 256*256, rtol=1e-6, complexflag=0, verb=True)"
   ]
  },
  {
   "cell_type": "code",
   "execution_count": null,
   "metadata": {},
   "outputs": [
    {
     "name": "stdout",
     "output_type": "stream",
     "text": [
      "Dot test passed, v^H(Opu)=-10.530986293916264 - u^H(Op^Hv)=-10.530986293916266\n"
     ]
    }
   ],
   "source": [
    "\n",
    "N = 10\n",
    "d = np.arange(N)\n",
    "Dop = pylops.Diagonal(d)\n",
    "\n",
    "_ = dottest(Dop, N, N, rtol=1e-6, complexflag=0, verb=True)\n"
   ]
  }
 ],
 "metadata": {
  "kernelspec": {
   "display_name": "base",
   "language": "python",
   "name": "python3"
  },
  "language_info": {
   "codemirror_mode": {
    "name": "ipython",
    "version": 3
   },
   "file_extension": ".py",
   "mimetype": "text/x-python",
   "name": "python",
   "nbconvert_exporter": "python",
   "pygments_lexer": "ipython3",
   "version": "3.12.3"
  }
 },
 "nbformat": 4,
 "nbformat_minor": 2
}
